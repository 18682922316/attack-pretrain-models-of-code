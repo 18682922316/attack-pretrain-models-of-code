{
 "cells": [
  {
   "cell_type": "code",
   "execution_count": 2,
   "id": "6a3c03e6",
   "metadata": {},
   "outputs": [],
   "source": [
    "import pandas as pd\n"
   ]
  },
  {
   "cell_type": "code",
   "execution_count": 5,
   "id": "cf158712",
   "metadata": {},
   "outputs": [
    {
     "name": "stdout",
     "output_type": "stream",
     "text": [
      "    Index                                      Original Code  \\\n",
      "0       2  void fw_cfg_add_callback(FWCfgState *s, uint16...   \n",
      "1       3  static void emulated_push_error(EmulatedState ...   \n",
      "2       8  static void tricore_cpu_initfn(Object *obj)\\n{...   \n",
      "3       9  static int mxf_read_content_storage(MXFContext...   \n",
      "4      23  static int find_stream_index(AVFormatContext *...   \n",
      "..    ...                                                ...   \n",
      "95   1615  static av_always_inline void iadst4_1d(const d...   \n",
      "96   1647  void qemu_chr_fe_printf(CharDriverState *s, co...   \n",
      "97   1653  static void pflash_timer (void *opaque)\\n{\\n  ...   \n",
      "98   1658  void ff_prores_idct(DCTELEM *block, const int1...   \n",
      "99   1675  static void kvm_log_start(MemoryListener *list...   \n",
      "\n",
      "                                  Adversarial Code GA  \\\n",
      "0   void fw_cfg_add_callback ( FWCfgState * s , ui...   \n",
      "1   static void emulated_push_error ( EmulatedStat...   \n",
      "2   static void tricore_cpu_initfn ( Object * QTAI...   \n",
      "3   static int mxf_read_content_storage ( MXFConte...   \n",
      "4   static int find_stream_index ( AVFormatContext...   \n",
      "..                                                ...   \n",
      "95  static av_always_inline void iadst4_1d ( const...   \n",
      "96  void qemu_chr_fe_printf ( CharDriverState * s ...   \n",
      "97  static void pflash_timer ( void * opaque ) { p...   \n",
      "98  void ff_prores_idct ( DCTELEM * frame , const ...   \n",
      "99  static void kvm_log_start ( MemoryListener * Q...   \n",
      "\n",
      "                   Replaced Names GA Attack Type 1  \\\n",
      "0            key:tcg_gen_extu_i32_tl       Ori_MHM   \n",
      "1   card:play,code:Code,event:press,        Greedy   \n",
      "2                  obj:QTAILQ_REMOVE       Ori_MHM   \n",
      "3           tag:tcg_gen_extu_i32_i64       Ori_MHM   \n",
      "4                     st:av_dict_get       Ori_MHM   \n",
      "..                               ...           ...   \n",
      "95          stride:above_4g_mem_size       Ori_MHM   \n",
      "96                         buf:feed,        Greedy   \n",
      "97                  pfl:coroutine_fn       Ori_MHM   \n",
      "98  qmat: qformat,i:cli,block:frame,        Greedy   \n",
      "99  listener:QCOW_MAX_CRYPT_CLUSTERS       Ori_MHM   \n",
      "\n",
      "                                 Adversarial Code MHM  \\\n",
      "0   void fw_cfg_add_callback ( FWCfgState * s , ui...   \n",
      "1   static void emulated_push_error ( EmulatedStat...   \n",
      "2   static void tricore_cpu_initfn ( Object * Obje...   \n",
      "3   static int mxf_read_content_storage ( MXFConte...   \n",
      "4   static int find_stream_index ( AVFormatContext...   \n",
      "..                                                ...   \n",
      "95  static av_always_inline void iadst4_1d ( const...   \n",
      "96  void qemu_chr_fe_printf ( CharDriverState * s ...   \n",
      "97  static void pflash_timer ( void * copque ) { p...   \n",
      "98  void ff_prores_idct ( DCTELEM * block , const ...   \n",
      "99  static void kvm_log_start ( MemoryListener * l...   \n",
      "\n",
      "                                   Replaced Names MHM Attack Type 2  \n",
      "0   callback_opaque:callback_oclatibility,callback...        Greedy  \n",
      "1                               event:PCI_HOST_BRIDGE       Ori_MHM  \n",
      "2                           obj:Object,cpu:gpu,cs:ec,        Greedy  \n",
      "3                                             pb:api,        Greedy  \n",
      "4                                       i:chi,st:ast,        Greedy  \n",
      "..                                                ...           ...  \n",
      "95                                    stride:strided,        Greedy  \n",
      "96                                            buf:run       Ori_MHM  \n",
      "97                              opaque:copque,pfl:Pf,        Greedy  \n",
      "98                                     qmat:chrPixBuf       Ori_MHM  \n",
      "99                listener:liner,section:parser,r:hr,            GA  \n",
      "\n",
      "[100 rows x 8 columns]\n"
     ]
    }
   ],
   "source": [
    "path='./mix1.csv'\n",
    "user_path = './user2.csv'\n",
    "df = pd.read_csv(path, skipinitialspace=True)\n",
    "print(df)"
   ]
  },
  {
   "cell_type": "code",
   "execution_count": 6,
   "id": "63427dc1",
   "metadata": {},
   "outputs": [],
   "source": [
    "user = pd.read_csv(user_path, skipinitialspace=True)"
   ]
  },
  {
   "cell_type": "code",
   "execution_count": 7,
   "id": "a9c4dc87",
   "metadata": {},
   "outputs": [
    {
     "data": {
      "text/html": [
       "<div>\n",
       "<style scoped>\n",
       "    .dataframe tbody tr th:only-of-type {\n",
       "        vertical-align: middle;\n",
       "    }\n",
       "\n",
       "    .dataframe tbody tr th {\n",
       "        vertical-align: top;\n",
       "    }\n",
       "\n",
       "    .dataframe thead th {\n",
       "        text-align: right;\n",
       "    }\n",
       "</style>\n",
       "<table border=\"1\" class=\"dataframe\">\n",
       "  <thead>\n",
       "    <tr style=\"text-align: right;\">\n",
       "      <th></th>\n",
       "      <th>Index Number</th>\n",
       "      <th>test 1</th>\n",
       "      <th>test 2</th>\n",
       "      <th>Unnamed: 3</th>\n",
       "      <th>Unnamed: 4</th>\n",
       "    </tr>\n",
       "  </thead>\n",
       "  <tbody>\n",
       "    <tr>\n",
       "      <th>0</th>\n",
       "      <td>1</td>\n",
       "      <td>4</td>\n",
       "      <td>3</td>\n",
       "      <td>NaN</td>\n",
       "      <td>NaN</td>\n",
       "    </tr>\n",
       "    <tr>\n",
       "      <th>1</th>\n",
       "      <td>2</td>\n",
       "      <td>3</td>\n",
       "      <td>4</td>\n",
       "      <td>NaN</td>\n",
       "      <td>NaN</td>\n",
       "    </tr>\n",
       "    <tr>\n",
       "      <th>2</th>\n",
       "      <td>3</td>\n",
       "      <td>5</td>\n",
       "      <td>3</td>\n",
       "      <td>NaN</td>\n",
       "      <td>NaN</td>\n",
       "    </tr>\n",
       "    <tr>\n",
       "      <th>3</th>\n",
       "      <td>4</td>\n",
       "      <td>3</td>\n",
       "      <td>3</td>\n",
       "      <td>NaN</td>\n",
       "      <td>NaN</td>\n",
       "    </tr>\n",
       "    <tr>\n",
       "      <th>4</th>\n",
       "      <td>5</td>\n",
       "      <td>4</td>\n",
       "      <td>3</td>\n",
       "      <td>NaN</td>\n",
       "      <td>NaN</td>\n",
       "    </tr>\n",
       "    <tr>\n",
       "      <th>...</th>\n",
       "      <td>...</td>\n",
       "      <td>...</td>\n",
       "      <td>...</td>\n",
       "      <td>...</td>\n",
       "      <td>...</td>\n",
       "    </tr>\n",
       "    <tr>\n",
       "      <th>95</th>\n",
       "      <td>96</td>\n",
       "      <td>4</td>\n",
       "      <td>3</td>\n",
       "      <td>NaN</td>\n",
       "      <td>NaN</td>\n",
       "    </tr>\n",
       "    <tr>\n",
       "      <th>96</th>\n",
       "      <td>97</td>\n",
       "      <td>4</td>\n",
       "      <td>4</td>\n",
       "      <td>NaN</td>\n",
       "      <td>NaN</td>\n",
       "    </tr>\n",
       "    <tr>\n",
       "      <th>97</th>\n",
       "      <td>98</td>\n",
       "      <td>4</td>\n",
       "      <td>3</td>\n",
       "      <td>NaN</td>\n",
       "      <td>NaN</td>\n",
       "    </tr>\n",
       "    <tr>\n",
       "      <th>98</th>\n",
       "      <td>99</td>\n",
       "      <td>3</td>\n",
       "      <td>4</td>\n",
       "      <td>NaN</td>\n",
       "      <td>NaN</td>\n",
       "    </tr>\n",
       "    <tr>\n",
       "      <th>99</th>\n",
       "      <td>100</td>\n",
       "      <td>4</td>\n",
       "      <td>4</td>\n",
       "      <td>NaN</td>\n",
       "      <td>NaN</td>\n",
       "    </tr>\n",
       "  </tbody>\n",
       "</table>\n",
       "<p>100 rows × 5 columns</p>\n",
       "</div>"
      ],
      "text/plain": [
       "    Index Number  test 1  test 2  Unnamed: 3  Unnamed: 4\n",
       "0              1       4       3         NaN         NaN\n",
       "1              2       3       4         NaN         NaN\n",
       "2              3       5       3         NaN         NaN\n",
       "3              4       3       3         NaN         NaN\n",
       "4              5       4       3         NaN         NaN\n",
       "..           ...     ...     ...         ...         ...\n",
       "95            96       4       3         NaN         NaN\n",
       "96            97       4       4         NaN         NaN\n",
       "97            98       4       3         NaN         NaN\n",
       "98            99       3       4         NaN         NaN\n",
       "99           100       4       4         NaN         NaN\n",
       "\n",
       "[100 rows x 5 columns]"
      ]
     },
     "execution_count": 7,
     "metadata": {},
     "output_type": "execute_result"
    }
   ],
   "source": [
    "user"
   ]
  },
  {
   "cell_type": "code",
   "execution_count": 8,
   "id": "6feaa94a",
   "metadata": {},
   "outputs": [],
   "source": [
    "# check the dataset\n",
    "mhm_sum = 0\n",
    "ga_sum = 0\n",
    "error = 0\n",
    "for index, row in df.iterrows():\n",
    "    if row['Attack Type 1'] == \"Ori_MHM\":\n",
    "        mhm_sum += 1\n",
    "    elif row['Attack Type 2'] == 'Ori_MHM':\n",
    "        ga_sum += 1\n",
    "    else:\n",
    "        error += 1"
   ]
  },
  {
   "cell_type": "code",
   "execution_count": 9,
   "id": "2db2a674",
   "metadata": {},
   "outputs": [
    {
     "name": "stdout",
     "output_type": "stream",
     "text": [
      "55\n",
      "45\n",
      "0\n"
     ]
    }
   ],
   "source": [
    "print(mhm_sum)\n",
    "print(ga_sum)\n",
    "print(error)"
   ]
  },
  {
   "cell_type": "code",
   "execution_count": 11,
   "id": "b25f252b",
   "metadata": {},
   "outputs": [],
   "source": [
    "mhm_sum = 0\n",
    "ga_sum = 0\n",
    "error = 0\n",
    "for index, row in df.iterrows():\n",
    "    if row['Attack Type 1'] == \"Ori_MHM\":\n",
    "        mhm_sum += user.iloc[index]['test 1']\n",
    "        ga_sum += user.iloc[index]['test 2']\n",
    "    elif row['Attack Type 2'] == 'Ori_MHM':\n",
    "        ga_sum += user.iloc[index]['test 1']\n",
    "        mhm_sum += user.iloc[index]['test 2'] \n",
    "    else:\n",
    "        error += 1"
   ]
  },
  {
   "cell_type": "code",
   "execution_count": 13,
   "id": "abeaa915",
   "metadata": {},
   "outputs": [
    {
     "name": "stdout",
     "output_type": "stream",
     "text": [
      "3.89\n",
      "3.24\n"
     ]
    }
   ],
   "source": [
    "print(mhm_sum/100)\n",
    "print(ga_sum/100)"
   ]
  },
  {
   "cell_type": "code",
   "execution_count": null,
   "id": "23e621ef",
   "metadata": {},
   "outputs": [],
   "source": []
  }
 ],
 "metadata": {
  "kernelspec": {
   "display_name": "Python 3",
   "language": "python",
   "name": "python3"
  },
  "language_info": {
   "codemirror_mode": {
    "name": "ipython",
    "version": 3
   },
   "file_extension": ".py",
   "mimetype": "text/x-python",
   "name": "python",
   "nbconvert_exporter": "python",
   "pygments_lexer": "ipython3",
   "version": "3.8.8"
  }
 },
 "nbformat": 4,
 "nbformat_minor": 5
}
