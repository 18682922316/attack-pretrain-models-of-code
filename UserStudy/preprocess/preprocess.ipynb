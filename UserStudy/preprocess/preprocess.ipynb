{
 "cells": [
  {
   "cell_type": "code",
   "execution_count": 2,
   "id": "139c6b16",
   "metadata": {},
   "outputs": [],
   "source": [
    "import pandas as pd\n"
   ]
  },
  {
   "cell_type": "code",
   "execution_count": 4,
   "id": "35338975",
   "metadata": {},
   "outputs": [
    {
     "name": "stdout",
     "output_type": "stream",
     "text": [
      "    Index                                      Original Code  \\\n",
      "0       2  void fw_cfg_add_callback(FWCfgState *s, uint16...   \n",
      "1       3  static void emulated_push_error(EmulatedState ...   \n",
      "2       8  static void tricore_cpu_initfn(Object *obj)\\n{...   \n",
      "3       9  static int mxf_read_content_storage(MXFContext...   \n",
      "4      23  static int find_stream_index(AVFormatContext *...   \n",
      "..    ...                                                ...   \n",
      "95   1615  static av_always_inline void iadst4_1d(const d...   \n",
      "96   1647  void qemu_chr_fe_printf(CharDriverState *s, co...   \n",
      "97   1653  static void pflash_timer (void *opaque)\\n{\\n  ...   \n",
      "98   1658  void ff_prores_idct(DCTELEM *block, const int1...   \n",
      "99   1675  static void kvm_log_start(MemoryListener *list...   \n",
      "\n",
      "                                  Adversarial Code GA  \\\n",
      "0   void fw_cfg_add_callback ( FWCfgState * s , ui...   \n",
      "1   static void emulated_push_error ( EmulatedStat...   \n",
      "2   static void tricore_cpu_initfn ( Object * Obje...   \n",
      "3   static int mxf_read_content_storage ( MXFConte...   \n",
      "4   static int find_stream_index ( AVFormatContext...   \n",
      "..                                                ...   \n",
      "95  static av_always_inline void iadst4_1d ( const...   \n",
      "96  void qemu_chr_fe_printf ( CharDriverState * s ...   \n",
      "97  static void pflash_timer ( void * copque ) { p...   \n",
      "98  void ff_prores_idct ( DCTELEM * frame , const ...   \n",
      "99  static void kvm_log_start ( MemoryListener * l...   \n",
      "\n",
      "                                    Replaced Names GA Attack Type 1  \\\n",
      "0   callback_opaque:callback_oclatibility,callback...        Greedy   \n",
      "1                    card:play,code:Code,event:press,        Greedy   \n",
      "2                           obj:Object,cpu:gpu,cs:ec,        Greedy   \n",
      "3                                             pb:api,        Greedy   \n",
      "4                                       i:chi,st:ast,        Greedy   \n",
      "..                                                ...           ...   \n",
      "95                                    stride:strided,        Greedy   \n",
      "96                                          buf:feed,        Greedy   \n",
      "97                              opaque:copque,pfl:Pf,        Greedy   \n",
      "98                   qmat: qformat,i:cli,block:frame,        Greedy   \n",
      "99                listener:liner,section:parser,r:hr,            GA   \n",
      "\n",
      "                                 Adversarial Code MHM  \\\n",
      "0   void fw_cfg_add_callback ( FWCfgState * s , ui...   \n",
      "1   static void emulated_push_error ( EmulatedStat...   \n",
      "2   static void tricore_cpu_initfn ( Object * QTAI...   \n",
      "3   static int mxf_read_content_storage ( MXFConte...   \n",
      "4   static int find_stream_index ( AVFormatContext...   \n",
      "..                                                ...   \n",
      "95  static av_always_inline void iadst4_1d ( const...   \n",
      "96  void qemu_chr_fe_printf ( CharDriverState * s ...   \n",
      "97  static void pflash_timer ( void * opaque ) { p...   \n",
      "98  void ff_prores_idct ( DCTELEM * block , const ...   \n",
      "99  static void kvm_log_start ( MemoryListener * Q...   \n",
      "\n",
      "                  Replaced Names MHM Attack Type 2  \n",
      "0            key:tcg_gen_extu_i32_tl       Ori_MHM  \n",
      "1              event:PCI_HOST_BRIDGE       Ori_MHM  \n",
      "2                  obj:QTAILQ_REMOVE       Ori_MHM  \n",
      "3           tag:tcg_gen_extu_i32_i64       Ori_MHM  \n",
      "4                     st:av_dict_get       Ori_MHM  \n",
      "..                               ...           ...  \n",
      "95          stride:above_4g_mem_size       Ori_MHM  \n",
      "96                           buf:run       Ori_MHM  \n",
      "97                  pfl:coroutine_fn       Ori_MHM  \n",
      "98                    qmat:chrPixBuf       Ori_MHM  \n",
      "99  listener:QCOW_MAX_CRYPT_CLUSTERS       Ori_MHM  \n",
      "\n",
      "[100 rows x 8 columns]\n"
     ]
    }
   ],
   "source": [
    "path='./mix.csv'\n",
    "df = pd.read_csv(path, skipinitialspace=True)\n",
    "print(df)"
   ]
  },
  {
   "cell_type": "code",
   "execution_count": 5,
   "id": "cfceae73",
   "metadata": {},
   "outputs": [],
   "source": [
    "import random"
   ]
  },
  {
   "cell_type": "code",
   "execution_count": 17,
   "id": "60c46205",
   "metadata": {},
   "outputs": [
    {
     "name": "stdout",
     "output_type": "stream",
     "text": [
      "1\n"
     ]
    }
   ],
   "source": [
    "r = random.randint(0,1)\n",
    "print(r)"
   ]
  },
  {
   "cell_type": "code",
   "execution_count": 18,
   "id": "4a335906",
   "metadata": {},
   "outputs": [],
   "source": [
    "for index, row in df.iterrows():\n",
    "    r = random.randint(0,1)\n",
    "    if r == 1:\n",
    "        tmp_code = row['Adversarial Code GA']\n",
    "        tmp_names = row['Replaced Names GA']\n",
    "        tmp_type = row['Attack Type 1']\n",
    "        \n",
    "        df.at[index, 'Adversarial Code GA'] = row['Adversarial Code MHM']\n",
    "        df.at[index, 'Replaced Names GA'] = row['Replaced Names MHM']\n",
    "        df.at[index, 'Attack Type 1'] = row['Attack Type 2']\n",
    "        df.at[index, 'Adversarial Code MHM'] = tmp_code\n",
    "        df.at[index, 'Replaced Names MHM'] = tmp_names\n",
    "        df.at[index, 'Attack Type 2'] = tmp_type"
   ]
  },
  {
   "cell_type": "code",
   "execution_count": 19,
   "id": "fcfb5b63",
   "metadata": {},
   "outputs": [
    {
     "name": "stdout",
     "output_type": "stream",
     "text": [
      "    Index                                      Original Code  \\\n",
      "0       2  void fw_cfg_add_callback(FWCfgState *s, uint16...   \n",
      "1       3  static void emulated_push_error(EmulatedState ...   \n",
      "2       8  static void tricore_cpu_initfn(Object *obj)\\n{...   \n",
      "3       9  static int mxf_read_content_storage(MXFContext...   \n",
      "4      23  static int find_stream_index(AVFormatContext *...   \n",
      "..    ...                                                ...   \n",
      "95   1615  static av_always_inline void iadst4_1d(const d...   \n",
      "96   1647  void qemu_chr_fe_printf(CharDriverState *s, co...   \n",
      "97   1653  static void pflash_timer (void *opaque)\\n{\\n  ...   \n",
      "98   1658  void ff_prores_idct(DCTELEM *block, const int1...   \n",
      "99   1675  static void kvm_log_start(MemoryListener *list...   \n",
      "\n",
      "                                  Adversarial Code GA  \\\n",
      "0   void fw_cfg_add_callback ( FWCfgState * s , ui...   \n",
      "1   static void emulated_push_error ( EmulatedStat...   \n",
      "2   static void tricore_cpu_initfn ( Object * QTAI...   \n",
      "3   static int mxf_read_content_storage ( MXFConte...   \n",
      "4   static int find_stream_index ( AVFormatContext...   \n",
      "..                                                ...   \n",
      "95  static av_always_inline void iadst4_1d ( const...   \n",
      "96  void qemu_chr_fe_printf ( CharDriverState * s ...   \n",
      "97  static void pflash_timer ( void * opaque ) { p...   \n",
      "98  void ff_prores_idct ( DCTELEM * frame , const ...   \n",
      "99  static void kvm_log_start ( MemoryListener * Q...   \n",
      "\n",
      "                   Replaced Names GA Attack Type 1  \\\n",
      "0            key:tcg_gen_extu_i32_tl       Ori_MHM   \n",
      "1   card:play,code:Code,event:press,        Greedy   \n",
      "2                  obj:QTAILQ_REMOVE       Ori_MHM   \n",
      "3           tag:tcg_gen_extu_i32_i64       Ori_MHM   \n",
      "4                     st:av_dict_get       Ori_MHM   \n",
      "..                               ...           ...   \n",
      "95          stride:above_4g_mem_size       Ori_MHM   \n",
      "96                         buf:feed,        Greedy   \n",
      "97                  pfl:coroutine_fn       Ori_MHM   \n",
      "98  qmat: qformat,i:cli,block:frame,        Greedy   \n",
      "99  listener:QCOW_MAX_CRYPT_CLUSTERS       Ori_MHM   \n",
      "\n",
      "                                 Adversarial Code MHM  \\\n",
      "0   void fw_cfg_add_callback ( FWCfgState * s , ui...   \n",
      "1   static void emulated_push_error ( EmulatedStat...   \n",
      "2   static void tricore_cpu_initfn ( Object * Obje...   \n",
      "3   static int mxf_read_content_storage ( MXFConte...   \n",
      "4   static int find_stream_index ( AVFormatContext...   \n",
      "..                                                ...   \n",
      "95  static av_always_inline void iadst4_1d ( const...   \n",
      "96  void qemu_chr_fe_printf ( CharDriverState * s ...   \n",
      "97  static void pflash_timer ( void * copque ) { p...   \n",
      "98  void ff_prores_idct ( DCTELEM * block , const ...   \n",
      "99  static void kvm_log_start ( MemoryListener * l...   \n",
      "\n",
      "                                   Replaced Names MHM Attack Type 2  \n",
      "0   callback_opaque:callback_oclatibility,callback...        Greedy  \n",
      "1                               event:PCI_HOST_BRIDGE       Ori_MHM  \n",
      "2                           obj:Object,cpu:gpu,cs:ec,        Greedy  \n",
      "3                                             pb:api,        Greedy  \n",
      "4                                       i:chi,st:ast,        Greedy  \n",
      "..                                                ...           ...  \n",
      "95                                    stride:strided,        Greedy  \n",
      "96                                            buf:run       Ori_MHM  \n",
      "97                              opaque:copque,pfl:Pf,        Greedy  \n",
      "98                                     qmat:chrPixBuf       Ori_MHM  \n",
      "99                listener:liner,section:parser,r:hr,            GA  \n",
      "\n",
      "[100 rows x 8 columns]\n"
     ]
    }
   ],
   "source": [
    "print(df)"
   ]
  },
  {
   "cell_type": "code",
   "execution_count": 20,
   "id": "af3c5999",
   "metadata": {},
   "outputs": [],
   "source": [
    "df.to_csv('mix1.csv', index=False)"
   ]
  },
  {
   "cell_type": "code",
   "execution_count": null,
   "id": "e69cc71c",
   "metadata": {},
   "outputs": [],
   "source": []
  }
 ],
 "metadata": {
  "kernelspec": {
   "display_name": "Python 3",
   "language": "python",
   "name": "python3"
  },
  "language_info": {
   "codemirror_mode": {
    "name": "ipython",
    "version": 3
   },
   "file_extension": ".py",
   "mimetype": "text/x-python",
   "name": "python",
   "nbconvert_exporter": "python",
   "pygments_lexer": "ipython3",
   "version": "3.8.8"
  }
 },
 "nbformat": 4,
 "nbformat_minor": 5
}
